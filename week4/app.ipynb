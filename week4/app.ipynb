{
 "cells": [
  {
   "cell_type": "markdown",
   "id": "4a6ab9a2-28a2-445d-8512-a0dc8d1b54e9",
   "metadata": {},
   "source": [
    "# Code Generator\n",
    "\n",
    "The requirement: use a Frontier model to generate high performance C++ code from Python code\n"
   ]
  },
  {
   "cell_type": "markdown",
   "id": "d5ccb926-7b49-44a4-99ab-8ef20b5778c0",
   "metadata": {},
   "source": [
    "<table style=\"margin: 0; text-align: left;\">\n",
    "    <tr>\n",
    "        <td style=\"width: 150px; height: 150px; vertical-align: middle;\">\n",
    "            <img src=\"../resources.jpg\" width=\"150\" height=\"150\" style=\"display: block;\" />\n",
    "        </td>\n",
    "        <td>\n",
    "            <h2 style=\"color:#f71;\">Reminder: fetch latest code</h2>\n",
    "            <span style=\"color:#f71;\">I'm continually improving these labs, adding more examples and exercises.\n",
    "            At the start of each week, it's worth checking you have the latest code.<br/>\n",
    "            First do a <a href=\"https://chatgpt.com/share/6734e705-3270-8012-a074-421661af6ba9\">git pull and merge your changes as needed</a>. Any problems? Try asking ChatGPT to clarify how to merge - or contact me!<br/><br/>\n",
    "            After you've pulled the code, from the llm_engineering directory, in an Anaconda prompt (PC) or Terminal (Mac), run:<br/>\n",
    "            <code>conda env update --f environment.yml --prune</code><br/>\n",
    "            Or if you used virtualenv rather than Anaconda, then run this from your activated environment in a Powershell (PC) or Terminal (Mac):<br/>\n",
    "            <code>pip install -r requirements.txt</code>\n",
    "            <br/>Then restart the kernel (Kernel menu >> Restart Kernel and Clear Outputs Of All Cells) to pick up the changes.\n",
    "            </span>\n",
    "        </td>\n",
    "    </tr>\n",
    "</table>"
   ]
  },
  {
   "cell_type": "markdown",
   "id": "d90e04a2-5b8a-4fd5-9db8-27c02f033313",
   "metadata": {},
   "source": [
    "<table style=\"margin: 0; text-align: left;\">\n",
    "    <tr>\n",
    "        <td style=\"width: 150px; height: 150px; vertical-align: middle;\">\n",
    "            <img src=\"../important.jpg\" width=\"150\" height=\"150\" style=\"display: block;\" />\n",
    "        </td>\n",
    "        <td>\n",
    "            <h1 style=\"color:#900;\">Important Note</h1>\n",
    "            <span style=\"color:#900;\">\n",
    "            In this lab, I use GPT-4o and Claude-3.5-Sonnet, which are the slightly higher priced models. The costs are still low, but if you'd prefer to keep costs ultra low, please make the suggested switches to the models (3 cells down from here).\n",
    "            </span>\n",
    "        </td>\n",
    "    </tr>\n",
    "</table>"
   ]
  },
  {
   "cell_type": "code",
   "execution_count": 1,
   "id": "e610bf56-a46e-4aff-8de1-ab49d62b1ad3",
   "metadata": {},
   "outputs": [],
   "source": [
    "# imports\n",
    "\n",
    "import os\n",
    "import io\n",
    "import sys\n",
    "from dotenv import load_dotenv\n",
    "from openai import OpenAI\n",
    "\n",
    "import anthropic\n",
    "from IPython.display import Markdown, display, update_display\n",
    "import gradio as gr\n",
    "import subprocess\n",
    "import google.generativeai as genai"
   ]
  },
  {
   "cell_type": "code",
   "execution_count": 2,
   "id": "4f672e1c-87e9-4865-b760-370fa605e614",
   "metadata": {},
   "outputs": [],
   "source": [
    "# environment\n",
    "\n",
    "load_dotenv()\n",
    "\n",
    "google_api_key = os.getenv('GOOGLE_API_KEY')"
   ]
  },
  {
   "cell_type": "code",
   "execution_count": 3,
   "id": "8aa149ed-9298-4d69-8fe2-8f5de0f667da",
   "metadata": {},
   "outputs": [],
   "source": [
    "\n",
    "GeminiModel=genai.configure(api_key=google_api_key)\n"
   ]
  },
  {
   "cell_type": "code",
   "execution_count": 4,
   "id": "6896636f-923e-4a2c-9d6c-fac07828a201",
   "metadata": {},
   "outputs": [],
   "source": [
    "system_message = \"You are an assistant that reimplements Python code in high performance C++ for an windows 11 OS. \"\n",
    "system_message += \"Respond only with C++ code; use comments sparingly and do not provide any explanation other than occasional comments. \"\n",
    "system_message += \"The C++ response needs to produce an identical output in the fastest possible time.\""
   ]
  },
  {
   "cell_type": "code",
   "execution_count": 5,
   "id": "8e7b3546-57aa-4c29-bc5d-f211970d04eb",
   "metadata": {},
   "outputs": [],
   "source": [
    "def user_prompt_for(python):\n",
    "    user_prompt = \"Rewrite this Python code in C++ with the fastest possible implementation that produces identical output in the least time. \"\n",
    "    user_prompt += \"Respond only with C++ code; do not explain your work other than a few comments. \"\n",
    "    user_prompt += \"Pay attention to number types to ensure no int overflows. Remember to #include all necessary C++ packages such as iomanip.\\n\\n\"\n",
    "    user_prompt += python\n",
    "    return user_prompt"
   ]
  },
  {
   "cell_type": "code",
   "execution_count": 6,
   "id": "c6190659-f54c-4951-bef4-4960f8e51cc4",
   "metadata": {},
   "outputs": [],
   "source": [
    "def messages_for(python):\n",
    "    return [\n",
    "        {\"role\": \"system\", \"content\": system_message},\n",
    "        {\"role\": \"user\", \"content\": user_prompt_for(python)}\n",
    "    ]"
   ]
  },
  {
   "cell_type": "code",
   "execution_count": 7,
   "id": "71e1ba8c-5b05-4726-a9f3-8d8c6257350b",
   "metadata": {},
   "outputs": [],
   "source": [
    "\n",
    "\n",
    "def write_output(cpp):\n",
    "    code = cpp.replace(\"```cpp\",\"\").replace(\"```\",\"\")\n",
    "    with open(\"optimized.cpp\", \"w\") as f:\n",
    "        f.write(code)"
   ]
  },
  {
   "cell_type": "code",
   "execution_count": 8,
   "id": "2d47ae88",
   "metadata": {},
   "outputs": [],
   "source": [
    "def optimize_gemini(python):\n",
    "    stream=genai.GenerativeModel(\"gemini-1.5-flash\")\n",
    "    prompt=f\"{system_message}\\n\\n{messages_for(python)}\"\n",
    "    response=stream.generate_content(prompt,stream=True)\n",
    "    result=\"\"\n",
    "    for chunks in response:\n",
    "        if chunks.text:\n",
    "            result+=chunks.text\n",
    "            print(chunks.text,end='',flush=True)\n",
    "    write_output(result)\n",
    "    \n"
   ]
  },
  {
   "cell_type": "code",
   "execution_count": 11,
   "id": "a1cbb778-fa57-43de-b04b-ed523f396c38",
   "metadata": {},
   "outputs": [],
   "source": [
    "pi = \"\"\"\n",
    "import time\n",
    "\n",
    "def calculate(iterations, param1, param2):\n",
    "    result = 1.0\n",
    "    for i in range(1, iterations+1):\n",
    "        j = i * param1 - param2\n",
    "        result -= (1/j)\n",
    "        j = i * param1 + param2\n",
    "        result += (1/j)\n",
    "    return result\n",
    "\n",
    "start_time = time.time()\n",
    "result = calculate(100_000_000, 4, 1) * 4\n",
    "end_time = time.time()\n",
    "\n",
    "print(f\"Result: {result:.12f}\")\n",
    "print(f\"Execution Time: {(end_time - start_time):.6f} seconds\")\n",
    "\"\"\""
   ]
  },
  {
   "cell_type": "code",
   "execution_count": 12,
   "id": "7fe1cd4b-d2c5-4303-afed-2115a3fef200",
   "metadata": {},
   "outputs": [
    {
     "name": "stdout",
     "output_type": "stream",
     "text": [
      "Result: 3.141592658589\n",
      "Execution Time: 13.885715 seconds\n"
     ]
    }
   ],
   "source": [
    "exec(pi)"
   ]
  },
  {
   "cell_type": "code",
   "execution_count": 13,
   "id": "105db6f9-343c-491d-8e44-3a5328b81719",
   "metadata": {},
   "outputs": [
    {
     "name": "stdout",
     "output_type": "stream",
     "text": [
      "```cpp\n",
      "#include <iostream>\n",
      "#include <chrono>\n",
      "#include <iomanip>\n",
      "\n",
      "//Using long double for higher precision to avoid overflow.\n",
      "using namespace std;\n",
      "long double calculate(long long iterations, long long param1, long long param2) {\n",
      "    long double result = 1.0L;\n",
      "    for (long long i = 1; i <= iterations; ++i) {\n",
      "        long double j = (long double)i * param1 - param2;\n",
      "        result -= (1.0L / j);\n",
      "        j = (long double)i * param1 + param2;\n",
      "        result += (1.0L / j);\n",
      "    }\n",
      "    return result;\n",
      "}\n",
      "\n",
      "int main() {\n",
      "    auto start_time = chrono::high_resolution_clock::now();\n",
      "    long double result = calculate(100000000, 4, 1) * 4.0L;\n",
      "    auto end_time = chrono::high_resolution_clock::now();\n",
      "\n",
      "    auto duration = chrono::duration_cast<chrono::microseconds>(end_time - start_time);\n",
      "\n",
      "    cout << \"Result: \" << fixed << setprecision(12) << result << endl;\n",
      "    cout << \"Execution Time: \" << (double)duration.count() / 1000000.0 << \" seconds\" << endl;\n",
      "\n",
      "    return 0;\n",
      "}\n",
      "```\n"
     ]
    }
   ],
   "source": [
    "optimize_gemini(pi)"
   ]
  },
  {
   "cell_type": "code",
   "execution_count": 14,
   "id": "bf26ee95-0c77-491d-9a91-579a1e96a8a3",
   "metadata": {},
   "outputs": [
    {
     "name": "stdout",
     "output_type": "stream",
     "text": [
      "Result: 3.141592658589\n",
      "Execution Time: 14.258571 seconds\n"
     ]
    }
   ],
   "source": [
    "exec(pi)"
   ]
  },
  {
   "cell_type": "markdown",
   "id": "bf8f8018-f64d-425c-a0e1-d7862aa9592d",
   "metadata": {},
   "source": [
    "# Compiling C++ and executing\n",
    "\n",
    "This next cell contains the command to compile a C++ file on my M1 Mac.  \n",
    "It compiles the file `optimized.cpp` into an executable called `optimized`  \n",
    "Then it runs the program called `optimized`\n",
    "\n",
    "You can google (or ask ChatGPT!) for how to do this on your platform, then replace the lines below.\n",
    "If you're not comfortable with this step, you can skip it for sure - I'll show you exactly how it performs on my Mac."
   ]
  },
  {
   "cell_type": "code",
   "execution_count": 15,
   "id": "f9b9d8f9",
   "metadata": {},
   "outputs": [
    {
     "name": "stdout",
     "output_type": "stream",
     "text": [
      "Result: 3.141592658590\n",
      "Execution Time: 0.338594000000 seconds\n"
     ]
    }
   ],
   "source": [
    "!g++ -O3 -std=c++17 -o optimized.exe optimized.cpp\n",
    "!optimized.exe"
   ]
  },
  {
   "cell_type": "code",
   "execution_count": 16,
   "id": "99545f2e",
   "metadata": {},
   "outputs": [
    {
     "name": "stdout",
     "output_type": "stream",
     "text": [
      "```cpp\n",
      "#include <iostream>\n",
      "#include <iomanip>\n",
      "#include <chrono>\n",
      "\n",
      "using namespace std;\n",
      "using namespace chrono;\n",
      "\n",
      "double calculate(long long iterations, long long param1, long long param2) {\n",
      "    double result = 1.0;\n",
      "    for (long long i = 1; i <= iterations; ++i) {\n",
      "        long double j = (long double)i * param1 - param2;\n",
      "        result -= (1.0 / j);\n",
      "        j = (long double)i * param1 + param2;\n",
      "        result += (1.0 / j);\n",
      "    }\n",
      "    return result;\n",
      "}\n",
      "\n",
      "int main() {\n",
      "    auto start = high_resolution_clock::now();\n",
      "    double result = calculate(100000000, 4, 1) * 4;\n",
      "    auto stop = high_resolution_clock::now();\n",
      "    auto duration = duration_cast<microseconds>(stop - start);\n",
      "\n",
      "    cout << fixed << setprecision(12) << \"Result: \" << result << endl;\n",
      "    cout << \"Execution Time: \" << (double)duration.count() / 1000000 << \" seconds\" << endl; \n",
      "\n",
      "    return 0;\n",
      "}\n",
      "```\n"
     ]
    }
   ],
   "source": [
    "optimize_gemini(pi)"
   ]
  },
  {
   "cell_type": "code",
   "execution_count": 20,
   "id": "c3b497b3-f569-420e-b92e-fb0f49957ce0",
   "metadata": {},
   "outputs": [],
   "source": [
    "python_hard = \"\"\"\n",
    "def lcg(seed, a=1664525, c=1013904223, m=2**32):\n",
    "    value = seed\n",
    "    while True:\n",
    "        value = (a * value + c) % m\n",
    "        yield value\n",
    "        \n",
    "def max_subarray_sum(n, seed, min_val, max_val):\n",
    "    lcg_gen = lcg(seed)\n",
    "    random_numbers = [next(lcg_gen) % (max_val - min_val + 1) + min_val for _ in range(n)]\n",
    "    max_sum = float('-inf')\n",
    "    for i in range(n):\n",
    "        current_sum = 0\n",
    "        for j in range(i, n):\n",
    "            current_sum += random_numbers[j]\n",
    "            if current_sum > max_sum:\n",
    "                max_sum = current_sum\n",
    "    return max_sum\n",
    "\n",
    "def total_max_subarray_sum(n, initial_seed, min_val, max_val):\n",
    "    total_sum = 0\n",
    "    lcg_gen = lcg(initial_seed)\n",
    "    for _ in range(20):\n",
    "        seed = next(lcg_gen)\n",
    "        total_sum += max_subarray_sum(n, seed, min_val, max_val)\n",
    "    return total_sum\n",
    "\n",
    "# Parameters\n",
    "n = 10000         # Number of random numbers\n",
    "initial_seed = 42 # Initial seed for the LCG\n",
    "min_val = -10     # Minimum value of random numbers\n",
    "max_val = 10      # Maximum value of random numbers\n",
    "\n",
    "# Timing the function\n",
    "import time\n",
    "start_time = time.time()\n",
    "result = total_max_subarray_sum(n, initial_seed, min_val, max_val)\n",
    "end_time = time.time()\n",
    "\n",
    "print(\"Total Maximum Subarray Sum (20 runs):\", result)\n",
    "print(\"Execution Time: {:.6f} seconds\".format(end_time - start_time))\n",
    "\"\"\""
   ]
  },
  {
   "cell_type": "code",
   "execution_count": 21,
   "id": "dab5e4bc-276c-4555-bd4c-12c699d5e899",
   "metadata": {},
   "outputs": [
    {
     "name": "stdout",
     "output_type": "stream",
     "text": [
      "Total Maximum Subarray Sum (20 runs): 10980\n",
      "Execution Time: 50.821084 seconds\n"
     ]
    }
   ],
   "source": [
    "exec(python_hard)"
   ]
  },
  {
   "cell_type": "code",
   "execution_count": 22,
   "id": "9b51f09d",
   "metadata": {},
   "outputs": [
    {
     "name": "stdout",
     "output_type": "stream",
     "text": [
      "```cpp\n",
      "#include <iostream>\n",
      "#include <vector>\n",
      "#include <limits> // Required for numeric_limits\n",
      "#include <chrono> // Required for high-resolution timer\n",
      "\n",
      "using namespace std;\n",
      "using namespace chrono;\n",
      "\n",
      "// Linear congruential generator\n",
      "unsigned long long lcg(unsigned long long seed, unsigned long long a = 1664525, unsigned long long c = 1013904223, unsigned long long m = 4294967296ULL) {\n",
      "    return (a * seed + c) % m;\n",
      "}\n",
      "\n",
      "\n",
      "long long max_subarray_sum(int n, unsigned long long seed, long long min_val, long long max_val) {\n",
      "    vector<long long> random_numbers(n);\n",
      "    unsigned long long lcg_seed = seed;\n",
      "    for (int i = 0; i < n; ++i) {\n",
      "        lcg_seed = lcg(lcg_seed);\n",
      "        random_numbers[i] = (lcg_seed % (max_val - min_val + 1)) + min_val;\n",
      "    }\n",
      "\n",
      "    long long max_sum = numeric_limits<long long>::min();\n",
      "    for (int i = 0; i < n; ++i) {\n",
      "        long long current_sum = 0;\n",
      "        for (int j = i; j < n; ++j) {\n",
      "            current_sum += random_numbers[j];\n",
      "            if (current_sum > max_sum) {\n",
      "                max_sum = current_sum;\n",
      "            }\n",
      "        }\n",
      "    }\n",
      "    return max_sum;\n",
      "}\n",
      "\n",
      "long long total_max_subarray_sum(int n, unsigned long long initial_seed, long long min_val, long long max_val) {\n",
      "    long long total_sum = 0;\n",
      "    unsigned long long lcg_seed = initial_seed;\n",
      "    for (int i = 0; i < 20; ++i) {\n",
      "        lcg_seed = lcg(lcg_seed);\n",
      "        total_sum += max_subarray_sum(n, lcg_seed, min_val, max_val);\n",
      "    }\n",
      "    return total_sum;\n",
      "}\n",
      "\n",
      "int main() {\n",
      "    int n = 10000;\n",
      "    unsigned long long initial_seed = 42;\n",
      "    long long min_val = -10;\n",
      "    long long max_val = 10;\n",
      "\n",
      "    auto start = high_resolution_clock::now();\n",
      "    long long result = total_max_subarray_sum(n, initial_seed, min_val, max_val);\n",
      "    auto stop = high_resolution_clock::now();\n",
      "    auto duration = duration_cast<microseconds>(stop - start);\n",
      "\n",
      "    cout << \"Total Maximum Subarray Sum (20 runs): \" << result << endl;\n",
      "    cout << \"Execution Time: \" << (double)duration.count() / 1000000 << \" seconds\" << endl;\n",
      "\n",
      "    return 0;\n",
      "}\n",
      "```\n"
     ]
    }
   ],
   "source": [
    "optimize_gemini(python_hard)"
   ]
  },
  {
   "cell_type": "code",
   "execution_count": 23,
   "id": "acd77cf6",
   "metadata": {},
   "outputs": [
    {
     "name": "stdout",
     "output_type": "stream",
     "text": [
      "Total Maximum Subarray Sum (20 runs): 10980\n",
      "Execution Time: 0.497453 seconds\n"
     ]
    }
   ],
   "source": [
    "!g++ -O3 -std=c++17 -o optimized.exe optimized.cpp\n",
    "!optimized.exe"
   ]
  },
  {
   "cell_type": "code",
   "execution_count": 28,
   "id": "b1b77c61",
   "metadata": {},
   "outputs": [],
   "source": [
    "def write_output(cpp):\n",
    "    code = cpp.replace(\"```cpp\",\"\").replace(\"```\",\"\")\n",
    "    with open(\"optimized.cpp\", \"w\") as f:\n",
    "        f.write(code)"
   ]
  },
  {
   "cell_type": "code",
   "execution_count": 29,
   "id": "3557d57b",
   "metadata": {},
   "outputs": [],
   "source": [
    "def stream_gemini(python):\n",
    "    stream=genai.GenerativeModel(\"gemini-1.5-flash\")\n",
    "    prompt=f\"{system_message}\\n\\n{messages_for(python)}\"\n",
    "    response=stream.generate_content(prompt,stream=True)\n",
    "    result=\"\"\n",
    "    for chunks in response:\n",
    "        if chunks.text:\n",
    "            result+=chunks.text\n",
    "            print(chunks.text,end='',flush=True)\n",
    "    write_output(result)\n",
    "    return result\n",
    "    "
   ]
  },
  {
   "cell_type": "code",
   "execution_count": 32,
   "id": "2f1ae8f5-16c8-40a0-aa18-63b617df078d",
   "metadata": {},
   "outputs": [],
   "source": [
    "def optimize(python, model):\n",
    "    if model==\"GEMINI\":\n",
    "        result = stream_gemini(python)\n",
    "        return result\n",
    "    else:\n",
    "        raise ValueError(\"Unknown model\")\n",
    "    # for stream_so_far in result:\n",
    "    #     yield stream_so_far        "
   ]
  },
  {
   "cell_type": "code",
   "execution_count": 34,
   "id": "19bf2bff-a822-4009-a539-f003b1651383",
   "metadata": {},
   "outputs": [],
   "source": [
    "def execute_python(code):\n",
    "        try:\n",
    "            output = io.StringIO()\n",
    "            sys.stdout = output\n",
    "            exec(code)\n",
    "        finally:\n",
    "            sys.stdout = sys.__stdout__\n",
    "        return output.getvalue()"
   ]
  },
  {
   "cell_type": "code",
   "execution_count": 35,
   "id": "3bb4fe93",
   "metadata": {},
   "outputs": [],
   "source": [
    "def execute_cpp(code):\n",
    "    write_output(code)\n",
    "    try:\n",
    "        # Windows compilation and execution commands\n",
    "        compile_cmd = [\"g++\", \"-O3\", \"-std=c++17\", \"-o\", \"optimized.exe\", \"optimized.cpp\"]\n",
    "        compile_result = subprocess.run(compile_cmd, check=True, text=True, capture_output=True)\n",
    "        run_cmd = [\"optimized.exe\"]\n",
    "        run_result = subprocess.run(run_cmd, check=True, text=True, capture_output=True)\n",
    "        return run_result.stdout\n",
    "    except subprocess.CalledProcessError as e:\n",
    "        return f\"An error occurred:\\n{e.stderr}\""
   ]
  },
  {
   "cell_type": "code",
   "execution_count": 51,
   "id": "9a2274f1-d03b-42c0-8dcc-4ce159b18442",
   "metadata": {},
   "outputs": [],
   "source": [
    "css = \"\"\"\n",
    ".container { margin: 15px; padding: 15px; }\n",
    ".title { text-align: center; margin-bottom: 20px; }\n",
    ".code-container { \n",
    "    background: #f5f5f5; \n",
    "    border-radius: 10px; \n",
    "    padding: 15px;\n",
    "    height: 500px !important;  /* Fixed height */\n",
    "    overflow-y: auto !important;  /* Enable vertical scrolling */\n",
    "}\n",
    ".button-row { gap: 10px; }\n",
    ".convert-button { background: #4CAF50 !important; }\n",
    ".run-button { background: #2196F3 !important; }\n",
    ".output-container { \n",
    "    border-radius: 8px;\n",
    "    padding: 10px;\n",
    "    margin-top: 10px;\n",
    "}\n",
    ".python { background-color: #306998 !important; color: white !important; }\n",
    ".cpp { background-color: #00599C !important; color: white !important; }\n",
    "\n",
    "# /* Make sure the code editors take full height */\n",
    "# .code-container > div {\n",
    "#     height: 100% !important;\n",
    "# }\n",
    "# .code-container textarea {\n",
    "#     height: 100% !important;\n",
    "# }\n",
    "\"\"\""
   ]
  },
  {
   "cell_type": "code",
   "execution_count": 52,
   "id": "f1303932-160c-424b-97a8-d28c816721b2",
   "metadata": {},
   "outputs": [
    {
     "data": {
      "text/html": [
       "<div><iframe src=\"http://127.0.0.1:7867/\" width=\"100%\" height=\"500\" allow=\"autoplay; camera; microphone; clipboard-read; clipboard-write;\" frameborder=\"0\" allowfullscreen></iframe></div>"
      ],
      "text/plain": [
       "<IPython.core.display.HTML object>"
      ]
     },
     "metadata": {},
     "output_type": "display_data"
    },
    {
     "data": {
      "text/plain": []
     },
     "execution_count": 52,
     "metadata": {},
     "output_type": "execute_result"
    }
   ],
   "source": [
    "with gr.Blocks(css=css) as ui:\n",
    "    with gr.Column(elem_classes=[\"container\"]):\n",
    "        gr.Markdown(\"# 🔄 Python to C++ Converter\", elem_classes=[\"title\"])\n",
    "        \n",
    "        # Code input section\n",
    "        with gr.Row(equal_height=True):\n",
    "            with gr.Column():\n",
    "                gr.Markdown(\"### Source Code\")\n",
    "                python = gr.Code(\n",
    "                    label=\"Python Code\",\n",
    "                    value=python_hard,\n",
    "                    language=\"python\",\n",
    "                    elem_classes=[\"code-container\"]\n",
    "                )\n",
    "            with gr.Column():\n",
    "                gr.Markdown(\"### Generated Code\")\n",
    "                cpp = gr.Code(\n",
    "                    label=\"C++ Code\",\n",
    "                    language=\"cpp\",\n",
    "                    elem_classes=[\"code-container\"]\n",
    "                )\n",
    "        \n",
    "        # Controls section\n",
    "        with gr.Row(elem_classes=[\"button-row\"]):\n",
    "            model = gr.Dropdown(\n",
    "                [\"GEMINI\"], \n",
    "                label=\"Select Model\",\n",
    "                value=\"GEMINI\",\n",
    "                container=False\n",
    "            )\n",
    "            convert = gr.Button(\"🔄 Convert\", elem_classes=[\"convert-button\"])\n",
    "        \n",
    "        gr.Markdown(\"### Execution Results\")\n",
    "        with gr.Row(equal_height=True):\n",
    "            with gr.Column():\n",
    "                python_run = gr.Button(\"▶️ Run Python\", elem_classes=[\"run-button\"])\n",
    "                python_out = gr.TextArea(\n",
    "                    label=\"Python Output\",\n",
    "                    elem_classes=[\"output-container\", \"python\"]\n",
    "                )\n",
    "            with gr.Column():\n",
    "                cpp_run = gr.Button(\"▶️ Run C++\", elem_classes=[\"run-button\"])\n",
    "                cpp_out = gr.TextArea(\n",
    "                    label=\"C++ Output\",\n",
    "                    elem_classes=[\"output-container\", \"cpp\"]\n",
    "                )\n",
    "\n",
    "    # Event handlers\n",
    "    convert.click(fn=optimize, inputs=[python, model], outputs=cpp)\n",
    "    python_run.click(fn=execute_python, inputs=[python], outputs=[python_out])\n",
    "    cpp_run.click(fn=execute_cpp, inputs=[cpp], outputs=[cpp_out])\n",
    "\n",
    "ui.launch(inbrowser=True)"
   ]
  },
  {
   "cell_type": "code",
   "execution_count": null,
   "id": "77a80857-4632-4de8-a28f-b614bcbe2f40",
   "metadata": {},
   "outputs": [],
   "source": []
  }
 ],
 "metadata": {
  "kernelspec": {
   "display_name": "Python 3 (ipykernel)",
   "language": "python",
   "name": "python3"
  },
  "language_info": {
   "codemirror_mode": {
    "name": "ipython",
    "version": 3
   },
   "file_extension": ".py",
   "mimetype": "text/x-python",
   "name": "python",
   "nbconvert_exporter": "python",
   "pygments_lexer": "ipython3",
   "version": "3.11.10"
  }
 },
 "nbformat": 4,
 "nbformat_minor": 5
}
